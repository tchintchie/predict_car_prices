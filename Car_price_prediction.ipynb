{
 "cells": [
  {
   "cell_type": "markdown",
   "metadata": {},
   "source": [
    "## Problem Statement\n",
    "A Chinese automobile company Geely Auto aspires to enter the US market by setting up their manufacturing unit there and producing cars locally to give competition to their US and European counterparts.\n",
    "\n",
    "They have contracted an automobile consulting company to understand the factors on which the pricing of cars depends. Specifically, they want to understand the factors affecting the pricing of cars in the American market, since those may be very different from the Chinese market. The company wants to know:\n",
    "\n",
    "- Which variables are significant in predicting the price of a car\n",
    "- How well those variables describe the price of a car\n",
    "- Based on various market surveys, the consulting firm has gathered a large data set of different types of cars across the America market.\n",
    "\n",
    "## Business Goal\n",
    "We are required to model the price of cars with the available independent variables. It will be used by the management to understand how exactly the prices vary with the independent variables. They can accordingly manipulate the design of the cars, the business strategy etc. to meet certain price levels. Further, the model will be a good way for management to understand the pricing dynamics of a new market."
   ]
  },
  {
   "cell_type": "code",
   "execution_count": 33,
   "metadata": {},
   "outputs": [],
   "source": [
    "import pandas as pd\n",
    "import matplotlib.pyplot as plt\n",
    "%matplotlib inline\n",
    "import seaborn as sns\n",
    "import pickle\n",
    "import re\n",
    "from sklearn.linear_model import LinearRegression\n",
    "from sklearn.preprocessing import OneHotEncoder, LabelEncoder, normalize\n",
    "from sklearn.compose import make_column_transformer\n",
    "from sklearn.pipeline import make_pipeline\n",
    "from sklearn.model_selection import train_test_split, GridSearchCV, cross_val_score"
   ]
  },
  {
   "cell_type": "code",
   "execution_count": 34,
   "metadata": {},
   "outputs": [],
   "source": [
    "df = pd.read_csv(\"train.csv\")"
   ]
  },
  {
   "cell_type": "code",
   "execution_count": 35,
   "metadata": {},
   "outputs": [
    {
     "data": {
      "text/html": [
       "<div>\n",
       "<style scoped>\n",
       "    .dataframe tbody tr th:only-of-type {\n",
       "        vertical-align: middle;\n",
       "    }\n",
       "\n",
       "    .dataframe tbody tr th {\n",
       "        vertical-align: top;\n",
       "    }\n",
       "\n",
       "    .dataframe thead th {\n",
       "        text-align: right;\n",
       "    }\n",
       "</style>\n",
       "<table border=\"1\" class=\"dataframe\">\n",
       "  <thead>\n",
       "    <tr style=\"text-align: right;\">\n",
       "      <th></th>\n",
       "      <th>Unnamed: 0</th>\n",
       "      <th>Location</th>\n",
       "      <th>Year</th>\n",
       "      <th>Kilometers_Driven</th>\n",
       "      <th>Fuel_Type</th>\n",
       "      <th>Transmission</th>\n",
       "      <th>Owner_Type</th>\n",
       "      <th>Mileage</th>\n",
       "      <th>Engine</th>\n",
       "      <th>Power</th>\n",
       "      <th>Seats</th>\n",
       "      <th>Price</th>\n",
       "      <th>Manufacturer</th>\n",
       "    </tr>\n",
       "  </thead>\n",
       "  <tbody>\n",
       "    <tr>\n",
       "      <th>0</th>\n",
       "      <td>0</td>\n",
       "      <td>Mumbai</td>\n",
       "      <td>2010</td>\n",
       "      <td>72000</td>\n",
       "      <td>CNG</td>\n",
       "      <td>Manual</td>\n",
       "      <td>First</td>\n",
       "      <td>26.60</td>\n",
       "      <td>998.0</td>\n",
       "      <td>58.16</td>\n",
       "      <td>5.0</td>\n",
       "      <td>1.75</td>\n",
       "      <td>Maruti</td>\n",
       "    </tr>\n",
       "    <tr>\n",
       "      <th>1</th>\n",
       "      <td>1</td>\n",
       "      <td>Pune</td>\n",
       "      <td>2015</td>\n",
       "      <td>41000</td>\n",
       "      <td>Diesel</td>\n",
       "      <td>Manual</td>\n",
       "      <td>First</td>\n",
       "      <td>19.67</td>\n",
       "      <td>1582.0</td>\n",
       "      <td>126.20</td>\n",
       "      <td>5.0</td>\n",
       "      <td>12.50</td>\n",
       "      <td>Hyundai</td>\n",
       "    </tr>\n",
       "    <tr>\n",
       "      <th>2</th>\n",
       "      <td>2</td>\n",
       "      <td>Chennai</td>\n",
       "      <td>2011</td>\n",
       "      <td>46000</td>\n",
       "      <td>Petrol</td>\n",
       "      <td>Manual</td>\n",
       "      <td>First</td>\n",
       "      <td>18.20</td>\n",
       "      <td>1199.0</td>\n",
       "      <td>88.70</td>\n",
       "      <td>5.0</td>\n",
       "      <td>4.50</td>\n",
       "      <td>Honda</td>\n",
       "    </tr>\n",
       "    <tr>\n",
       "      <th>3</th>\n",
       "      <td>3</td>\n",
       "      <td>Chennai</td>\n",
       "      <td>2012</td>\n",
       "      <td>87000</td>\n",
       "      <td>Diesel</td>\n",
       "      <td>Manual</td>\n",
       "      <td>First</td>\n",
       "      <td>20.77</td>\n",
       "      <td>1248.0</td>\n",
       "      <td>88.76</td>\n",
       "      <td>7.0</td>\n",
       "      <td>6.00</td>\n",
       "      <td>Maruti</td>\n",
       "    </tr>\n",
       "    <tr>\n",
       "      <th>4</th>\n",
       "      <td>4</td>\n",
       "      <td>Coimbatore</td>\n",
       "      <td>2013</td>\n",
       "      <td>40670</td>\n",
       "      <td>Diesel</td>\n",
       "      <td>Automatic</td>\n",
       "      <td>Second</td>\n",
       "      <td>15.20</td>\n",
       "      <td>1968.0</td>\n",
       "      <td>140.80</td>\n",
       "      <td>5.0</td>\n",
       "      <td>17.74</td>\n",
       "      <td>Audi</td>\n",
       "    </tr>\n",
       "  </tbody>\n",
       "</table>\n",
       "</div>"
      ],
      "text/plain": [
       "   Unnamed: 0    Location  Year  Kilometers_Driven Fuel_Type Transmission  \\\n",
       "0           0      Mumbai  2010              72000       CNG       Manual   \n",
       "1           1        Pune  2015              41000    Diesel       Manual   \n",
       "2           2     Chennai  2011              46000    Petrol       Manual   \n",
       "3           3     Chennai  2012              87000    Diesel       Manual   \n",
       "4           4  Coimbatore  2013              40670    Diesel    Automatic   \n",
       "\n",
       "  Owner_Type  Mileage  Engine   Power  Seats  Price Manufacturer  \n",
       "0      First    26.60   998.0   58.16    5.0   1.75       Maruti  \n",
       "1      First    19.67  1582.0  126.20    5.0  12.50      Hyundai  \n",
       "2      First    18.20  1199.0   88.70    5.0   4.50        Honda  \n",
       "3      First    20.77  1248.0   88.76    7.0   6.00       Maruti  \n",
       "4     Second    15.20  1968.0  140.80    5.0  17.74         Audi  "
      ]
     },
     "execution_count": 35,
     "metadata": {},
     "output_type": "execute_result"
    }
   ],
   "source": [
    "df.head()"
   ]
  },
  {
   "cell_type": "code",
   "execution_count": 36,
   "metadata": {},
   "outputs": [
    {
     "data": {
      "text/plain": [
       "(6019, 13)"
      ]
     },
     "execution_count": 36,
     "metadata": {},
     "output_type": "execute_result"
    }
   ],
   "source": [
    "df.shape"
   ]
  },
  {
   "cell_type": "code",
   "execution_count": 37,
   "metadata": {},
   "outputs": [
    {
     "name": "stdout",
     "output_type": "stream",
     "text": [
      "<class 'pandas.core.frame.DataFrame'>\n",
      "RangeIndex: 6019 entries, 0 to 6018\n",
      "Data columns (total 13 columns):\n",
      " #   Column             Non-Null Count  Dtype  \n",
      "---  ------             --------------  -----  \n",
      " 0   Unnamed: 0         6019 non-null   int64  \n",
      " 1   Location           6019 non-null   object \n",
      " 2   Year               6019 non-null   int64  \n",
      " 3   Kilometers_Driven  6019 non-null   int64  \n",
      " 4   Fuel_Type          6019 non-null   object \n",
      " 5   Transmission       6019 non-null   object \n",
      " 6   Owner_Type         6019 non-null   object \n",
      " 7   Mileage            6019 non-null   float64\n",
      " 8   Engine             6019 non-null   float64\n",
      " 9   Power              6019 non-null   float64\n",
      " 10  Seats              6019 non-null   float64\n",
      " 11  Price              6019 non-null   float64\n",
      " 12  Manufacturer       6019 non-null   object \n",
      "dtypes: float64(5), int64(3), object(5)\n",
      "memory usage: 611.4+ KB\n"
     ]
    }
   ],
   "source": [
    "df.info()"
   ]
  },
  {
   "cell_type": "code",
   "execution_count": 38,
   "metadata": {},
   "outputs": [],
   "source": [
    "df[[\"Location\",\"Fuel_Type\",\"Transmission\",\"Owner_Type\",\"Manufacturer\"]] = df[[\"Location\",\"Fuel_Type\",\"Transmission\",\"Owner_Type\",\"Manufacturer\"]].astype(\"category\")"
   ]
  },
  {
   "cell_type": "code",
   "execution_count": 39,
   "metadata": {},
   "outputs": [
    {
     "name": "stdout",
     "output_type": "stream",
     "text": [
      "<class 'pandas.core.frame.DataFrame'>\n",
      "RangeIndex: 6019 entries, 0 to 6018\n",
      "Data columns (total 13 columns):\n",
      " #   Column             Non-Null Count  Dtype   \n",
      "---  ------             --------------  -----   \n",
      " 0   Unnamed: 0         6019 non-null   int64   \n",
      " 1   Location           6019 non-null   category\n",
      " 2   Year               6019 non-null   int64   \n",
      " 3   Kilometers_Driven  6019 non-null   int64   \n",
      " 4   Fuel_Type          6019 non-null   category\n",
      " 5   Transmission       6019 non-null   category\n",
      " 6   Owner_Type         6019 non-null   category\n",
      " 7   Mileage            6019 non-null   float64 \n",
      " 8   Engine             6019 non-null   float64 \n",
      " 9   Power              6019 non-null   float64 \n",
      " 10  Seats              6019 non-null   float64 \n",
      " 11  Price              6019 non-null   float64 \n",
      " 12  Manufacturer       6019 non-null   category\n",
      "dtypes: category(5), float64(5), int64(3)\n",
      "memory usage: 408.1 KB\n"
     ]
    }
   ],
   "source": [
    "df.info()"
   ]
  },
  {
   "cell_type": "code",
   "execution_count": 40,
   "metadata": {},
   "outputs": [
    {
     "data": {
      "text/plain": [
       "Mumbai        790\n",
       "Hyderabad     742\n",
       "Kochi         651\n",
       "Coimbatore    636\n",
       "Pune          622\n",
       "Delhi         554\n",
       "Kolkata       535\n",
       "Chennai       494\n",
       "Jaipur        413\n",
       "Bangalore     358\n",
       "Ahmedabad     224\n",
       "Name: Location, dtype: int64"
      ]
     },
     "execution_count": 40,
     "metadata": {},
     "output_type": "execute_result"
    }
   ],
   "source": [
    "df.Location.value_counts()"
   ]
  },
  {
   "cell_type": "code",
   "execution_count": 41,
   "metadata": {},
   "outputs": [
    {
     "data": {
      "text/plain": [
       "Maruti           1211\n",
       "Hyundai          1107\n",
       "Honda             608\n",
       "Toyota            411\n",
       "Mercedes-Benz     318\n",
       "Volkswagen        315\n",
       "Ford              300\n",
       "Mahindra          272\n",
       "BMW               267\n",
       "Audi              236\n",
       "Tata              186\n",
       "Skoda             173\n",
       "Renault           145\n",
       "Chevrolet         121\n",
       "Nissan             91\n",
       "Land               60\n",
       "Jaguar             40\n",
       "Fiat               28\n",
       "Mitsubishi         27\n",
       "Mini               26\n",
       "Volvo              21\n",
       "Porsche            18\n",
       "Jeep               15\n",
       "Datsun             13\n",
       "Force               3\n",
       "ISUZU               2\n",
       "Bentley             1\n",
       "Lamborghini         1\n",
       "Isuzu               1\n",
       "Smart               1\n",
       "Ambassador          1\n",
       "Name: Manufacturer, dtype: int64"
      ]
     },
     "execution_count": 41,
     "metadata": {},
     "output_type": "execute_result"
    }
   ],
   "source": [
    "df.Manufacturer.value_counts()"
   ]
  },
  {
   "cell_type": "code",
   "execution_count": 42,
   "metadata": {},
   "outputs": [],
   "source": [
    "train = df.drop(\"Unnamed: 0\", axis = 1).copy()"
   ]
  },
  {
   "cell_type": "code",
   "execution_count": 43,
   "metadata": {},
   "outputs": [
    {
     "data": {
      "text/html": [
       "<div>\n",
       "<style scoped>\n",
       "    .dataframe tbody tr th:only-of-type {\n",
       "        vertical-align: middle;\n",
       "    }\n",
       "\n",
       "    .dataframe tbody tr th {\n",
       "        vertical-align: top;\n",
       "    }\n",
       "\n",
       "    .dataframe thead th {\n",
       "        text-align: right;\n",
       "    }\n",
       "</style>\n",
       "<table border=\"1\" class=\"dataframe\">\n",
       "  <thead>\n",
       "    <tr style=\"text-align: right;\">\n",
       "      <th></th>\n",
       "      <th>Location</th>\n",
       "      <th>Year</th>\n",
       "      <th>Kilometers_Driven</th>\n",
       "      <th>Fuel_Type</th>\n",
       "      <th>Transmission</th>\n",
       "      <th>Owner_Type</th>\n",
       "      <th>Mileage</th>\n",
       "      <th>Engine</th>\n",
       "      <th>Power</th>\n",
       "      <th>Seats</th>\n",
       "      <th>Price</th>\n",
       "      <th>Manufacturer</th>\n",
       "    </tr>\n",
       "  </thead>\n",
       "  <tbody>\n",
       "    <tr>\n",
       "      <th>0</th>\n",
       "      <td>Mumbai</td>\n",
       "      <td>2010</td>\n",
       "      <td>72000</td>\n",
       "      <td>CNG</td>\n",
       "      <td>Manual</td>\n",
       "      <td>First</td>\n",
       "      <td>26.60</td>\n",
       "      <td>998.0</td>\n",
       "      <td>58.16</td>\n",
       "      <td>5.0</td>\n",
       "      <td>1.75</td>\n",
       "      <td>Maruti</td>\n",
       "    </tr>\n",
       "    <tr>\n",
       "      <th>1</th>\n",
       "      <td>Pune</td>\n",
       "      <td>2015</td>\n",
       "      <td>41000</td>\n",
       "      <td>Diesel</td>\n",
       "      <td>Manual</td>\n",
       "      <td>First</td>\n",
       "      <td>19.67</td>\n",
       "      <td>1582.0</td>\n",
       "      <td>126.20</td>\n",
       "      <td>5.0</td>\n",
       "      <td>12.50</td>\n",
       "      <td>Hyundai</td>\n",
       "    </tr>\n",
       "    <tr>\n",
       "      <th>2</th>\n",
       "      <td>Chennai</td>\n",
       "      <td>2011</td>\n",
       "      <td>46000</td>\n",
       "      <td>Petrol</td>\n",
       "      <td>Manual</td>\n",
       "      <td>First</td>\n",
       "      <td>18.20</td>\n",
       "      <td>1199.0</td>\n",
       "      <td>88.70</td>\n",
       "      <td>5.0</td>\n",
       "      <td>4.50</td>\n",
       "      <td>Honda</td>\n",
       "    </tr>\n",
       "    <tr>\n",
       "      <th>3</th>\n",
       "      <td>Chennai</td>\n",
       "      <td>2012</td>\n",
       "      <td>87000</td>\n",
       "      <td>Diesel</td>\n",
       "      <td>Manual</td>\n",
       "      <td>First</td>\n",
       "      <td>20.77</td>\n",
       "      <td>1248.0</td>\n",
       "      <td>88.76</td>\n",
       "      <td>7.0</td>\n",
       "      <td>6.00</td>\n",
       "      <td>Maruti</td>\n",
       "    </tr>\n",
       "    <tr>\n",
       "      <th>4</th>\n",
       "      <td>Coimbatore</td>\n",
       "      <td>2013</td>\n",
       "      <td>40670</td>\n",
       "      <td>Diesel</td>\n",
       "      <td>Automatic</td>\n",
       "      <td>Second</td>\n",
       "      <td>15.20</td>\n",
       "      <td>1968.0</td>\n",
       "      <td>140.80</td>\n",
       "      <td>5.0</td>\n",
       "      <td>17.74</td>\n",
       "      <td>Audi</td>\n",
       "    </tr>\n",
       "  </tbody>\n",
       "</table>\n",
       "</div>"
      ],
      "text/plain": [
       "     Location  Year  Kilometers_Driven Fuel_Type Transmission Owner_Type  \\\n",
       "0      Mumbai  2010              72000       CNG       Manual      First   \n",
       "1        Pune  2015              41000    Diesel       Manual      First   \n",
       "2     Chennai  2011              46000    Petrol       Manual      First   \n",
       "3     Chennai  2012              87000    Diesel       Manual      First   \n",
       "4  Coimbatore  2013              40670    Diesel    Automatic     Second   \n",
       "\n",
       "   Mileage  Engine   Power  Seats  Price Manufacturer  \n",
       "0    26.60   998.0   58.16    5.0   1.75       Maruti  \n",
       "1    19.67  1582.0  126.20    5.0  12.50      Hyundai  \n",
       "2    18.20  1199.0   88.70    5.0   4.50        Honda  \n",
       "3    20.77  1248.0   88.76    7.0   6.00       Maruti  \n",
       "4    15.20  1968.0  140.80    5.0  17.74         Audi  "
      ]
     },
     "execution_count": 43,
     "metadata": {},
     "output_type": "execute_result"
    }
   ],
   "source": [
    "train.head()"
   ]
  },
  {
   "cell_type": "code",
   "execution_count": 44,
   "metadata": {},
   "outputs": [],
   "source": [
    "test = pd.read_csv(\"test.csv\")"
   ]
  },
  {
   "cell_type": "code",
   "execution_count": 45,
   "metadata": {},
   "outputs": [],
   "source": [
    "test[[\"Location\",\"Fuel_Type\",\"Transmission\",\"Owner_Type\",\"Manufacturer\"]] = test[[\"Location\",\"Fuel_Type\",\"Transmission\",\"Owner_Type\",\"Manufacturer\"]].astype(\"category\")"
   ]
  },
  {
   "cell_type": "code",
   "execution_count": 46,
   "metadata": {},
   "outputs": [],
   "source": [
    "test.drop(\"Unnamed: 0\", axis = 1, inplace = True)"
   ]
  },
  {
   "cell_type": "code",
   "execution_count": 47,
   "metadata": {},
   "outputs": [
    {
     "data": {
      "text/plain": [
       "((6019, 12), (1234, 11))"
      ]
     },
     "execution_count": 47,
     "metadata": {},
     "output_type": "execute_result"
    }
   ],
   "source": [
    "train.shape, test.shape"
   ]
  },
  {
   "cell_type": "code",
   "execution_count": 48,
   "metadata": {},
   "outputs": [],
   "source": [
    "X = train.drop(\"Price\", axis = 1).copy()\n",
    "y = train.Price"
   ]
  },
  {
   "cell_type": "code",
   "execution_count": 49,
   "metadata": {},
   "outputs": [
    {
     "data": {
      "text/plain": [
       "((6019, 11), (6019,))"
      ]
     },
     "execution_count": 49,
     "metadata": {},
     "output_type": "execute_result"
    }
   ],
   "source": [
    "X.shape, y.shape"
   ]
  },
  {
   "cell_type": "code",
   "execution_count": 50,
   "metadata": {},
   "outputs": [],
   "source": [
    "corr = train.corr()"
   ]
  },
  {
   "cell_type": "code",
   "execution_count": 51,
   "metadata": {},
   "outputs": [
    {
     "data": {
      "image/png": "[encoded data removed]",
      "text/plain": [
       "<Figure size 1080x720 with 2 Axes>"
      ]
     },
     "metadata": {
      "needs_background": "light"
     },
     "output_type": "display_data"
    }
   ],
   "source": [
    "plt.figure(figsize = (15,10))\n",
    "sns.heatmap(corr)\n",
    "plt.show()"
   ]
  },
  {
   "cell_type": "code",
   "execution_count": 52,
   "metadata": {},
   "outputs": [
    {
     "data": {
      "image/png": "[encoded data removed]",
      "text/plain": [
       "<Figure size 1080x720 with 1 Axes>"
      ]
     },
     "metadata": {
      "needs_background": "light"
     },
     "output_type": "display_data"
    }
   ],
   "source": [
    "plt.figure(figsize = (15,10))\n",
    "plt.scatter(train.Manufacturer, train.Price)\n",
    "plt.xticks(rotation = 50)\n",
    "plt.show()"
   ]
  },
  {
   "cell_type": "code",
   "execution_count": 53,
   "metadata": {},
   "outputs": [
    {
     "data": {
      "image/png": "[encoded data removed]",
      "text/plain": [
       "<Figure size 432x288 with 1 Axes>"
      ]
     },
     "metadata": {
      "needs_background": "light"
     },
     "output_type": "display_data"
    }
   ],
   "source": [
    "plt.hist(train.Price, rwidth = 0.8)\n",
    "plt.xlabel(\"Price\")\n",
    "plt.ylabel(\"count\")\n",
    "plt.show()"
   ]
  },
  {
   "cell_type": "code",
   "execution_count": 54,
   "metadata": {},
   "outputs": [
    {
     "data": {
      "image/png": "[encoded data removed]",
      "text/plain": [
       "<Figure size 432x288 with 1 Axes>"
      ]
     },
     "metadata": {
      "needs_background": "light"
     },
     "output_type": "display_data"
    }
   ],
   "source": [
    "plt.hist(train.Power, rwidth = 0.8)\n",
    "plt.xlabel(\"HP\")\n",
    "plt.ylabel(\"count\")\n",
    "plt.show()"
   ]
  },
  {
   "cell_type": "code",
   "execution_count": 55,
   "metadata": {},
   "outputs": [],
   "source": [
    "from catboost import Pool, CatBoostRegressor"
   ]
  },
  {
   "cell_type": "code",
   "execution_count": 56,
   "metadata": {},
   "outputs": [
    {
     "data": {
      "text/html": [
       "<div>\n",
       "<style scoped>\n",
       "    .dataframe tbody tr th:only-of-type {\n",
       "        vertical-align: middle;\n",
       "    }\n",
       "\n",
       "    .dataframe tbody tr th {\n",
       "        vertical-align: top;\n",
       "    }\n",
       "\n",
       "    .dataframe thead th {\n",
       "        text-align: right;\n",
       "    }\n",
       "</style>\n",
       "<table border=\"1\" class=\"dataframe\">\n",
       "  <thead>\n",
       "    <tr style=\"text-align: right;\">\n",
       "      <th></th>\n",
       "      <th>Location</th>\n",
       "      <th>Fuel_Type</th>\n",
       "      <th>Transmission</th>\n",
       "      <th>Owner_Type</th>\n",
       "      <th>Manufacturer</th>\n",
       "    </tr>\n",
       "  </thead>\n",
       "  <tbody>\n",
       "    <tr>\n",
       "      <th>0</th>\n",
       "      <td>Mumbai</td>\n",
       "      <td>CNG</td>\n",
       "      <td>Manual</td>\n",
       "      <td>First</td>\n",
       "      <td>Maruti</td>\n",
       "    </tr>\n",
       "  </tbody>\n",
       "</table>\n",
       "</div>"
      ],
      "text/plain": [
       "  Location Fuel_Type Transmission Owner_Type Manufacturer\n",
       "0   Mumbai       CNG       Manual      First       Maruti"
      ]
     },
     "execution_count": 56,
     "metadata": {},
     "output_type": "execute_result"
    }
   ],
   "source": [
    "train.select_dtypes(include = [\"category\"]).head(1)"
   ]
  },
  {
   "cell_type": "code",
   "execution_count": 57,
   "metadata": {},
   "outputs": [],
   "source": [
    "train_pool = Pool(X, y, cat_features = [\"Location\",\"Fuel_Type\",\"Transmission\",\"Owner_Type\",\"Manufacturer\"])\n",
    "test_pool = Pool(test, cat_features = [\"Location\",\"Fuel_Type\",\"Transmission\",\"Owner_Type\",\"Manufacturer\"])"
   ]
  },
  {
   "cell_type": "code",
   "execution_count": 58,
   "metadata": {},
   "outputs": [],
   "source": [
    "catboost = CatBoostRegressor(iterations = 100, depth = 15, learning_rate = 0.01, loss_function = \"RMSE\")"
   ]
  },
  {
   "cell_type": "code",
   "execution_count": 68,
   "metadata": {},
   "outputs": [
    {
     "name": "stdout",
     "output_type": "stream",
     "text": [
      "0:\tlearn: 11.1036833\ttotal: 52.9ms\tremaining: 5.24s\n",
      "1:\tlearn: 11.0198885\ttotal: 161ms\tremaining: 7.89s\n",
      "2:\tlearn: 10.9389870\ttotal: 372ms\tremaining: 12s\n",
      "3:\tlearn: 10.8599463\ttotal: 1.19s\tremaining: 28.6s\n",
      "4:\tlearn: 10.7815969\ttotal: 1.97s\tremaining: 37.4s\n",
      "5:\tlearn: 10.7045791\ttotal: 2.76s\tremaining: 43.3s\n",
      "6:\tlearn: 10.6285521\ttotal: 3.16s\tremaining: 42s\n",
      "7:\tlearn: 10.5522782\ttotal: 3.37s\tremaining: 38.8s\n",
      "8:\tlearn: 10.4783582\ttotal: 3.42s\tremaining: 34.6s\n",
      "9:\tlearn: 10.4020050\ttotal: 3.82s\tremaining: 34.4s\n",
      "10:\tlearn: 10.3303249\ttotal: 3.83s\tremaining: 31s\n",
      "11:\tlearn: 10.2585589\ttotal: 4.57s\tremaining: 33.5s\n",
      "12:\tlearn: 10.1839429\ttotal: 4.61s\tremaining: 30.9s\n",
      "13:\tlearn: 10.1120107\ttotal: 4.63s\tremaining: 28.4s\n",
      "14:\tlearn: 10.0446968\ttotal: 5.4s\tremaining: 30.6s\n",
      "15:\tlearn: 9.9779084\ttotal: 5.6s\tremaining: 29.4s\n",
      "16:\tlearn: 9.9089216\ttotal: 5.62s\tremaining: 27.4s\n",
      "17:\tlearn: 9.8420407\ttotal: 5.63s\tremaining: 25.6s\n",
      "18:\tlearn: 9.7721202\ttotal: 5.65s\tremaining: 24.1s\n",
      "19:\tlearn: 9.7069516\ttotal: 6.46s\tremaining: 25.8s\n",
      "20:\tlearn: 9.6417448\ttotal: 6.51s\tremaining: 24.5s\n",
      "21:\tlearn: 9.5765702\ttotal: 6.52s\tremaining: 23.1s\n",
      "22:\tlearn: 9.5168014\ttotal: 7.32s\tremaining: 24.5s\n",
      "23:\tlearn: 9.4525353\ttotal: 7.32s\tremaining: 23.2s\n",
      "24:\tlearn: 9.3857497\ttotal: 8.1s\tremaining: 24.3s\n",
      "25:\tlearn: 9.3241486\ttotal: 8.85s\tremaining: 25.2s\n",
      "26:\tlearn: 9.2625095\ttotal: 9.63s\tremaining: 26s\n",
      "27:\tlearn: 9.1992626\ttotal: 9.65s\tremaining: 24.8s\n",
      "28:\tlearn: 9.1386060\ttotal: 9.77s\tremaining: 23.9s\n",
      "29:\tlearn: 9.0837598\ttotal: 10.6s\tremaining: 24.7s\n",
      "30:\tlearn: 9.0265659\ttotal: 11.4s\tremaining: 25.3s\n",
      "31:\tlearn: 8.9643694\ttotal: 11.4s\tremaining: 24.2s\n",
      "32:\tlearn: 8.9075493\ttotal: 11.6s\tremaining: 23.6s\n",
      "33:\tlearn: 8.8512552\ttotal: 12.4s\tremaining: 24s\n",
      "34:\tlearn: 8.7934210\ttotal: 12.4s\tremaining: 23s\n",
      "35:\tlearn: 8.7378463\ttotal: 13.2s\tremaining: 23.4s\n",
      "36:\tlearn: 8.6823085\ttotal: 14s\tremaining: 23.8s\n",
      "37:\tlearn: 8.6279147\ttotal: 14.7s\tremaining: 24.1s\n",
      "38:\tlearn: 8.5745627\ttotal: 15.5s\tremaining: 24.3s\n",
      "39:\tlearn: 8.5182996\ttotal: 15.6s\tremaining: 23.4s\n",
      "40:\tlearn: 8.4663486\ttotal: 16.4s\tremaining: 23.6s\n",
      "41:\tlearn: 8.4113290\ttotal: 16.4s\tremaining: 22.7s\n",
      "42:\tlearn: 8.3605886\ttotal: 16.4s\tremaining: 21.8s\n",
      "43:\tlearn: 8.3070389\ttotal: 16.5s\tremaining: 21.1s\n",
      "44:\tlearn: 8.2549130\ttotal: 16.7s\tremaining: 20.5s\n",
      "45:\tlearn: 8.2049861\ttotal: 16.8s\tremaining: 19.7s\n",
      "46:\tlearn: 8.1546122\ttotal: 17.6s\tremaining: 19.8s\n",
      "47:\tlearn: 8.1037444\ttotal: 18.3s\tremaining: 19.8s\n",
      "48:\tlearn: 8.0572505\ttotal: 19.1s\tremaining: 19.9s\n",
      "49:\tlearn: 8.0091938\ttotal: 19.9s\tremaining: 19.9s\n",
      "50:\tlearn: 7.9594386\ttotal: 20s\tremaining: 19.2s\n",
      "51:\tlearn: 7.9136160\ttotal: 20.8s\tremaining: 19.2s\n",
      "52:\tlearn: 7.8674843\ttotal: 21.5s\tremaining: 19.1s\n",
      "53:\tlearn: 7.8203960\ttotal: 21.6s\tremaining: 18.4s\n",
      "54:\tlearn: 7.7780356\ttotal: 22.4s\tremaining: 18.3s\n",
      "55:\tlearn: 7.7310519\ttotal: 22.4s\tremaining: 17.6s\n",
      "56:\tlearn: 7.6865676\ttotal: 22.6s\tremaining: 17s\n",
      "57:\tlearn: 7.6463923\ttotal: 23.4s\tremaining: 16.9s\n",
      "58:\tlearn: 7.6000002\ttotal: 23.4s\tremaining: 16.3s\n",
      "59:\tlearn: 7.5597271\ttotal: 24.2s\tremaining: 16.1s\n",
      "60:\tlearn: 7.5146866\ttotal: 24.3s\tremaining: 15.5s\n",
      "61:\tlearn: 7.4697361\ttotal: 25.1s\tremaining: 15.4s\n",
      "62:\tlearn: 7.4263079\ttotal: 25.2s\tremaining: 14.8s\n",
      "63:\tlearn: 7.3843025\ttotal: 26s\tremaining: 14.6s\n",
      "64:\tlearn: 7.3406852\ttotal: 26.8s\tremaining: 14.4s\n",
      "65:\tlearn: 7.3018093\ttotal: 27.6s\tremaining: 14.2s\n",
      "66:\tlearn: 7.2626870\ttotal: 27.7s\tremaining: 13.6s\n",
      "67:\tlearn: 7.2225548\ttotal: 27.7s\tremaining: 13s\n",
      "68:\tlearn: 7.1855006\ttotal: 28.4s\tremaining: 12.8s\n",
      "69:\tlearn: 7.1445829\ttotal: 29.3s\tremaining: 12.5s\n",
      "70:\tlearn: 7.1066594\ttotal: 30.1s\tremaining: 12.3s\n",
      "71:\tlearn: 7.0681140\ttotal: 30.9s\tremaining: 12s\n",
      "72:\tlearn: 7.0303866\ttotal: 31.7s\tremaining: 11.7s\n",
      "73:\tlearn: 6.9923194\ttotal: 31.9s\tremaining: 11.2s\n",
      "74:\tlearn: 6.9551016\ttotal: 32.1s\tremaining: 10.7s\n",
      "75:\tlearn: 6.9153559\ttotal: 32.3s\tremaining: 10.2s\n",
      "76:\tlearn: 6.8796150\ttotal: 32.4s\tremaining: 9.68s\n",
      "77:\tlearn: 6.8431833\ttotal: 32.5s\tremaining: 9.17s\n",
      "78:\tlearn: 6.8072523\ttotal: 33.3s\tremaining: 8.86s\n",
      "79:\tlearn: 6.7723112\ttotal: 33.4s\tremaining: 8.35s\n",
      "80:\tlearn: 6.7367919\ttotal: 34.2s\tremaining: 8.02s\n",
      "81:\tlearn: 6.7024968\ttotal: 35s\tremaining: 7.68s\n",
      "82:\tlearn: 6.6698796\ttotal: 35.1s\tremaining: 7.19s\n",
      "83:\tlearn: 6.6359865\ttotal: 35.2s\tremaining: 6.7s\n",
      "84:\tlearn: 6.6049389\ttotal: 35.9s\tremaining: 6.34s\n",
      "85:\tlearn: 6.5715831\ttotal: 36.7s\tremaining: 5.98s\n",
      "86:\tlearn: 6.5388065\ttotal: 37.5s\tremaining: 5.61s\n",
      "87:\tlearn: 6.5041097\ttotal: 37.7s\tremaining: 5.14s\n",
      "88:\tlearn: 6.4723523\ttotal: 38.5s\tremaining: 4.75s\n",
      "89:\tlearn: 6.4381790\ttotal: 38.6s\tremaining: 4.29s\n",
      "90:\tlearn: 6.4080541\ttotal: 39.4s\tremaining: 3.89s\n",
      "91:\tlearn: 6.3755317\ttotal: 40.2s\tremaining: 3.49s\n",
      "92:\tlearn: 6.3457416\ttotal: 40.2s\tremaining: 3.02s\n",
      "93:\tlearn: 6.3160836\ttotal: 41s\tremaining: 2.62s\n",
      "94:\tlearn: 6.2850180\ttotal: 41.4s\tremaining: 2.18s\n",
      "95:\tlearn: 6.2549859\ttotal: 42.2s\tremaining: 1.76s\n",
      "96:\tlearn: 6.2244999\ttotal: 42.4s\tremaining: 1.31s\n",
      "97:\tlearn: 6.1959401\ttotal: 43.2s\tremaining: 882ms\n",
      "98:\tlearn: 6.1687321\ttotal: 44.1s\tremaining: 445ms\n",
      "99:\tlearn: 6.1403674\ttotal: 44.9s\tremaining: 0us\n"
     ]
    }
   ],
   "source": [
    "fit_catboost = catboost.fit(train_pool)"
   ]
  },
  {
   "cell_type": "code",
   "execution_count": 60,
   "metadata": {},
   "outputs": [
    {
     "data": {
      "text/plain": [
       "array([ 5.87430995,  5.70998485, 13.46469984, ...,  5.77069885,\n",
       "        7.42168398, 16.24552846])"
      ]
     },
     "execution_count": 60,
     "metadata": {},
     "output_type": "execute_result"
    }
   ],
   "source": [
    "preds = catboost.predict(test_pool)\n",
    "preds"
   ]
  },
  {
   "cell_type": "code",
   "execution_count": 61,
   "metadata": {},
   "outputs": [
    {
     "data": {
      "text/plain": [
       "1998"
      ]
     },
     "execution_count": 61,
     "metadata": {},
     "output_type": "execute_result"
    }
   ],
   "source": [
    "X.Year.min()"
   ]
  },
  {
   "cell_type": "code",
   "execution_count": 62,
   "metadata": {},
   "outputs": [
    {
     "data": {
      "text/plain": [
       "dtype('int64')"
      ]
     },
     "execution_count": 62,
     "metadata": {},
     "output_type": "execute_result"
    }
   ],
   "source": [
    "X.Year.dtype"
   ]
  },
  {
   "cell_type": "code",
   "execution_count": 63,
   "metadata": {},
   "outputs": [
    {
     "data": {
      "text/plain": [
       "['CNG', 'Diesel', 'Petrol', 'LPG', 'Electric']\n",
       "Categories (5, object): ['CNG', 'Diesel', 'Petrol', 'LPG', 'Electric']"
      ]
     },
     "execution_count": 63,
     "metadata": {},
     "output_type": "execute_result"
    }
   ],
   "source": [
    "X.Fuel_Type.values.unique()"
   ]
  },
  {
   "cell_type": "code",
   "execution_count": 69,
   "metadata": {},
   "outputs": [],
   "source": [
    "model_path = \"D:\\DataScience\\Kaggle\\Regression\\streamlit_app\\catboost.pickle\"\n",
    "pickle.dump(fit_catboost, open(model_path, 'wb'))"
   ]
  },
  {
   "cell_type": "code",
   "execution_count": null,
   "metadata": {},
   "outputs": [],
   "source": []
  }
 ],
 "metadata": {
  "kernelspec": {
   "display_name": "Python 3",
   "language": "python",
   "name": "python3"
  },
  "language_info": {
   "codemirror_mode": {
    "name": "ipython",
    "version": 3
   },
   "file_extension": ".py",
   "mimetype": "text/x-python",
   "name": "python",
   "nbconvert_exporter": "python",
   "pygments_lexer": "ipython3",
   "version": "3.8.5"
  }
 },
 "nbformat": 4,
 "nbformat_minor": 4
}
